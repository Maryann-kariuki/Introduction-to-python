{
 "cells": [
  {
   "cell_type": "code",
   "execution_count": null,
   "metadata": {},
   "outputs": [],
   "source": [
    "# Variables and Data Types\n",
    "name = \"John\"    # String\n",
    "age = 25         # Integer\n",
    "height = 5.9     # Float\n",
    "is_student = True # Boolean\n",
    "\n",
    "# List and Dictionary\n",
    "hobbies = [\"reading\", \"coding\", \"hiking\"]\n",
    "student = {\"name\": \"John\", \"age\": 25, \"is_student\": True}\n"
   ]
  },
  {
   "cell_type": "code",
   "execution_count": null,
   "metadata": {},
   "outputs": [],
   "source": [
    "# Strings and String Operations\n",
    "greeting = \"Hello, World!\"\n",
    "\n",
    "# Common String Operations\n",
    "print(greeting.lower())        # Convert to lowercase\n",
    "print(greeting.upper())        # Convert to uppercase\n",
    "print(len(greeting))           # Get the length of the string\n",
    "print(greeting[0:5])           # Slicing the string\n",
    "print(greeting.replace(\"World\", \"Python\"))  # Replace part of the string\n"
   ]
  },
  {
   "cell_type": "code",
   "execution_count": null,
   "metadata": {},
   "outputs": [],
   "source": [
    "# Lists and List Operations\n",
    "# List of numbers and strings\n",
    "fruits = [\"apple\", \"banana\", \"cherry\"]\n",
    "numbers = [10, 20, 30, 40]\n",
    "\n",
    "# Accessing List Elements\n",
    "print(fruits[0])  # Output: apple\n",
    "\n",
    "# Modifying a List\n",
    "fruits.append(\"orange\")\n",
    "print(fruits)  # Output: ['apple', 'banana', 'cherry', 'orange']\n"
   ]
  },
  {
   "cell_type": "code",
   "execution_count": null,
   "metadata": {},
   "outputs": [],
   "source": [
    "# Dictionaries and Dictionary Operations\n",
    "# Dictionary Example\n",
    "student = {\n",
    "    \"name\": \"Alice\",\n",
    "    \"age\": 22,\n",
    "    \"major\": \"Computer Science\"\n",
    "}\n",
    "\n",
    "# Accessing Values\n",
    "print(student[\"name\"])  # Output: Alice\n",
    "\n",
    "# Adding a new key-value pair\n",
    "student[\"graduated\"] = False\n",
    "print(student)  # Output: {'name': 'Alice', 'age': 22, 'major': 'Computer Science', 'graduated': False}\n"
   ]
  },
  {
   "cell_type": "code",
   "execution_count": null,
   "metadata": {},
   "outputs": [],
   "source": [
    "# Functions in Python\n",
    "# Defining a Function\n",
    "def greet_user(name):\n",
    "    print(f\"Hello, {name}!\")\n",
    "\n",
    "# Calling the Function\n",
    "greet_user(\"Alice\")  # Output: Hello, Alice!\n"
   ]
  },
  {
   "cell_type": "code",
   "execution_count": null,
   "metadata": {},
   "outputs": [],
   "source": [
    "# Control Structures\n",
    "age = 18\n",
    "\n",
    "if age >= 18:\n",
    "    print(\"You are an adult.\")\n",
    "else:\n",
    "    print(\"You are a minor.\")\n"
   ]
  },
  {
   "cell_type": "code",
   "execution_count": null,
   "metadata": {},
   "outputs": [],
   "source": [
    "# Loops in Python\n",
    "# For Loop\n",
    "for fruit in [\"apple\", \"banana\", \"cherry\"]:\n",
    "    print(fruit)\n",
    "\n",
    "# While Loop\n",
    "count = 0\n",
    "while count < 5:\n",
    "    print(count)\n",
    "    count += 1\n"
   ]
  }
 ],
 "metadata": {
  "language_info": {
   "name": "python"
  }
 },
 "nbformat": 4,
 "nbformat_minor": 2
}
