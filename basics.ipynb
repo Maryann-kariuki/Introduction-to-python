{
 "cells": [
  {
   "cell_type": "code",
   "execution_count": null,
   "metadata": {},
   "outputs": [],
   "source": [
    "# Variables and Data Types\n",
    "#  A variable is a name given to a memory location that stores data. Variables can hold different types of data, such as numbers, strings, lists, etc.\n",
    "\n",
    "# Variable Declaration\n",
    "name = \"Alice\"      # String\n",
    "age = 25            # Integer\n",
    "height = 5.9        # Float\n",
    "is_student = True   # Boolean\n",
    "\n",
    "# Printing the variables\n",
    "print(name)         # Output: Alice\n",
    "print(age)          # Output: 25\n",
    "print(height)       # Output: 5.9\n",
    "print(is_student)   # Output: True"
   ]
  },
  {
   "cell_type": "code",
   "execution_count": null,
   "metadata": {},
   "outputs": [],
   "source": [
    "# Data Types in Python\n",
    "# Python has several built-in data types to represent different types of data. Let's explore the most commonly used types."
   ]
  },
  {
   "cell_type": "code",
   "execution_count": null,
   "metadata": {},
   "outputs": [],
   "source": [
    "# Strings and String Operations\n",
    "greeting = \"Hello, World!\"\n",
    "\n",
    "# Common String Operations\n",
    "print(greeting.lower())        # Convert to lowercase\n",
    "print(greeting.upper())        # Convert to uppercase\n",
    "print(len(greeting))           # Get the length of the string\n",
    "print(greeting[0:5])           # Slicing the string\n",
    "print(greeting.replace(\"World\", \"Python\"))  # Replace part of the string\n"
   ]
  },
  {
   "cell_type": "code",
   "execution_count": null,
   "metadata": {},
   "outputs": [],
   "source": [
    "# Integers\n",
    "# Definition: Integers are whole numbers, either positive or negative, without decimal points.\n",
    "\n",
    "# Integer Declaration\n",
    "x = 10\n",
    "y = 3\n",
    "\n",
    "# Integer Operations\n",
    "sum_value = x + y           # Addition: 13\n",
    "diff_value = x - y          # Subtraction: 7\n",
    "prod_value = x * y          # Multiplication: 30\n",
    "div_value = x // y          # Floor Division: 3 Floor division returns the quotient without decimals.\n",
    "mod_value = x % y           # Modulus (remainder): 1\n"
   ]
  },
  {
   "cell_type": "code",
   "execution_count": null,
   "metadata": {},
   "outputs": [],
   "source": [
    "# Floats\n",
    "# Definition: Floats (floating-point numbers) are numbers that have decimal points.\n",
    "\n",
    "# Float Declaration\n",
    "a = 10.5\n",
    "b = 3.2\n",
    "\n",
    "# Float Operations\n",
    "sum_float = a + b          # Output: 13.7\n",
    "diff_float = a - b         # Output: 7.3\n",
    "prod_float = a * b         # Output: 33.6\n",
    "div_float = a / b          # Output: 3.28125\n"
   ]
  },
  {
   "cell_type": "code",
   "execution_count": null,
   "metadata": {},
   "outputs": [],
   "source": [
    "# Booleans\n",
    "# Definition: Booleans represent True or False values.\n",
    "\n",
    "# Boolean Declaration\n",
    "is_sunny = True\n",
    "is_raining = False\n",
    "\n",
    "# Boolean Logic\n",
    "print(is_sunny and is_raining)   # Output: False\n",
    "print(is_sunny or is_raining)    # Output: True\n",
    "print(not is_raining)            # Output: True\n"
   ]
  },
  {
   "cell_type": "code",
   "execution_count": null,
   "metadata": {},
   "outputs": [],
   "source": [
    "# Lists\n",
    "# Definition: A list is an ordered collection of items that can hold multiple data types."
   ]
  },
  {
   "cell_type": "code",
   "execution_count": null,
   "metadata": {},
   "outputs": [],
   "source": [
    "# Lists and List Operations\n",
    "fruits = [\"apple\", \"banana\", \"cherry\"]\n",
    "numbers = [10, 20, 30, 40]\n",
    "\n",
    "# Accessing List Elements\n",
    "print(fruits[0])  # Output: apple\n",
    "\n",
    "# Modifying a List\n",
    "fruits.append(\"orange\")\n",
    "print(fruits)  # Output: ['apple', 'banana', 'cherry', 'orange']\n",
    "\n",
    "\n",
    "# List Declaration\n",
    "fruits = [\"apple\", \"banana\", \"cherry\"]\n",
    "\n",
    "# List Operations\n",
    "print(fruits[0])          # Accessing the first item: 'apple'\n",
    "fruits.append(\"orange\")   # Adding an item to the list\n",
    "print(fruits)             # Output: ['apple', 'banana', 'cherry', 'orange']\n",
    "fruits.remove(\"banana\")   # Removing an item from the list\n",
    "print(fruits)             # Output: ['apple', 'cherry', 'orange']\n"
   ]
  },
  {
   "cell_type": "code",
   "execution_count": null,
   "metadata": {},
   "outputs": [],
   "source": [
    "# Dictionaries and Dictionary Operations\n",
    "student = {\n",
    "    \"name\": \"Alice\",\n",
    "    \"age\": 22,\n",
    "    \"major\": \"Computer Science\"\n",
    "}\n",
    "\n",
    "# Dictionary Operations\n",
    "print(student[\"name\"])    # Accessing value by key: 'Alice'\n",
    "student[\"age\"] = 23       # Modifying an existing key-value pair\n",
    "print(student)            # Output: {'name': 'Alice', 'age': 23, 'major': 'Computer Science'}\n",
    "student[\"graduated\"] = True  # Adding a new key-value pair\n",
    "print(student)            # Output: {'name': 'Alice', 'age': 23, 'major': 'Computer Science', 'graduated': True}\n"
   ]
  }
 ],
 "metadata": {
  "language_info": {
   "name": "python"
  }
 },
 "nbformat": 4,
 "nbformat_minor": 2
}
