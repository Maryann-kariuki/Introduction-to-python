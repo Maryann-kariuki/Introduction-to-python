{
 "cells": [
  {
   "cell_type": "code",
   "execution_count": 2,
   "metadata": {},
   "outputs": [
    {
     "name": "stdout",
     "output_type": "stream",
     "text": [
      "Hello from a function\n"
     ]
    }
   ],
   "source": [
    "def my_function():\n",
    "  print(\"Hello from a function\")\n",
    "  \n",
    "my_function()\n"
   ]
  },
  {
   "cell_type": "markdown",
   "metadata": {},
   "source": [
    "Functions in Python\n",
    "\n",
    "A function is a block of organized, reusable code that performs a specific task. Functions help break the program into smaller, modular pieces, making the code more structured, readable, and easier to maintain.\n",
    "\n",
    "Key Components of a Function:\n",
    "\n",
    "1.Function Definition: Declares the function using the def keyword.\n",
    "\n",
    "2. Function Call: Invokes the function to perform the task.\n",
    "\n",
    "3. Parameters: Inputs that you pass to the function (optional).\n",
    "\n",
    "4. Return Statement: Outputs the result of the function (optional)."
   ]
  },
  {
   "cell_type": "code",
   "execution_count": null,
   "metadata": {},
   "outputs": [],
   "source": [
    "# Function that adds two numbers\n",
    "def add_numbers(num1, num2):\n",
    "    result = num1 + num2\n",
    "    return result\n",
    "\n",
    "# Calling the function\n",
    "sum_result = add_numbers(5, 7)\n",
    "print(f\"The sum is: {sum_result}\")\n"
   ]
  },
  {
   "cell_type": "code",
   "execution_count": null,
   "metadata": {},
   "outputs": [],
   "source": [
    "# Function with a default parameter\n",
    "def greet(name=\"Stranger\"):\n",
    "    return f\"Hello, {name}!\"\n",
    "\n",
    "# Function calls\n",
    "print(greet(\"Bob\"))  # Output: Hello, Bob!\n",
    "print(greet())       # Output: Hello, Stranger!\n"
   ]
  },
  {
   "cell_type": "code",
   "execution_count": null,
   "metadata": {},
   "outputs": [],
   "source": [
    "# Function returning multiple values\n",
    "def calculate(a, b):\n",
    "    sum_ = a + b\n",
    "    product = a * b\n",
    "    return sum_, product\n",
    "\n",
    "# Function call\n",
    "sum_result, product_result = calculate(3, 4)\n",
    "print(f\"Sum: {sum_result}, Product: {product_result}\")\n"
   ]
  },
  {
   "cell_type": "code",
   "execution_count": null,
   "metadata": {},
   "outputs": [],
   "source": [
    "# Function that applies a given function to two numbers\n",
    "def apply_operation(operation, x, y):\n",
    "    return operation(x, y)\n",
    "\n",
    "# Defining two operations using lambda\n",
    "add = lambda x, y: x + y\n",
    "multiply = lambda x, y: x * y\n",
    "\n",
    "# Function calls\n",
    "print(apply_operation(add, 10, 5))      # Output: 15\n",
    "print(apply_operation(multiply, 10, 5)) # Output: 50\n"
   ]
  }
 ],
 "metadata": {
  "kernelspec": {
   "display_name": "Python 3",
   "language": "python",
   "name": "python3"
  },
  "language_info": {
   "codemirror_mode": {
    "name": "ipython",
    "version": 3
   },
   "file_extension": ".py",
   "mimetype": "text/x-python",
   "name": "python",
   "nbconvert_exporter": "python",
   "pygments_lexer": "ipython3",
   "version": "3.12.3"
  }
 },
 "nbformat": 4,
 "nbformat_minor": 2
}
