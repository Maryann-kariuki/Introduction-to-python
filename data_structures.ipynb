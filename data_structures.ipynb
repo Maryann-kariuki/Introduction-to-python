{
 "cells": [
  {
   "cell_type": "markdown",
   "metadata": {},
   "source": [
    "There are four collection data types in the Python programming language:\n",
    "\n",
    "List is a collection which is ordered and changeable. Allows duplicate members.\n",
    "\n",
    "Tuple is a collection which is ordered and unchangeable. Allows duplicate members.\n",
    "\n",
    "Set is a collection which is unordered, unchangeable*, and unindexed. No duplicate members.\n",
    "\n",
    "Dictionary is a collection which is ordered** and changeable. No duplicate members."
   ]
  },
  {
   "cell_type": "markdown",
   "metadata": {},
   "source": [
    "Lists\n",
    "A list is a mutable (changeable) collection that allows duplicate elements and supports various operations like appending, extending, slicing, and removing elements."
   ]
  },
  {
   "cell_type": "code",
   "execution_count": 1,
   "metadata": {},
   "outputs": [
    {
     "name": "stdout",
     "output_type": "stream",
     "text": [
      "Fruits: ['apple', 'cherry', 'orange']\n"
     ]
    }
   ],
   "source": [
    "# List creation and manipulation\n",
    "fruits = [\"apple\", \"banana\", \"cherry\"]\n",
    "\n",
    "# Appending a new element\n",
    "fruits.append(\"orange\")\n",
    "\n",
    "# Removing an element by value\n",
    "fruits.remove(\"banana\")\n",
    "\n",
    "# List slicing to access a subset of elements\n",
    "# subset_fruits = fruits[1:3]\n",
    "\n",
    "print(f\"Fruits: {fruits}\") \n",
    "# print(f\"Subset of Fruits: {subset_fruits}\")\n"
   ]
  },
  {
   "cell_type": "code",
   "execution_count": null,
   "metadata": {},
   "outputs": [],
   "source": [
    "nephews = [\"Huey\", \"Dewey\", \"Louie\"]\n",
    "nephews.append('April Duck')\n",
    "nephews.sort()\n",
    "nephews.remove('Louie')\n",
    "print(nephews)"
   ]
  },
  {
   "cell_type": "markdown",
   "metadata": {},
   "source": [
    "Dictionaries\n",
    "A dictionary is a collection of key-value pairs, where each key is unique and used to retrieve its corresponding value."
   ]
  },
  {
   "cell_type": "code",
   "execution_count": 5,
   "metadata": {},
   "outputs": [
    {
     "name": "stdout",
     "output_type": "stream",
     "text": [
      "{'name': 'John', 'age': 21, 'major': 'Computer Science'}\n",
      "Student's name: John\n",
      "Student's Age: 21\n",
      "name: John\n",
      "age: 22\n",
      "GPA: 3.8\n"
     ]
    }
   ],
   "source": [
    "# Defining a dictionary\n",
    "student = {\n",
    "    \"name\": \"John\",\n",
    "    \"age\": 21,\n",
    "    \"major\": \"Computer Science\"\n",
    "}\n",
    "\n",
    "# Accessing dictionary elements\n",
    "print(student)\n",
    "print(f\"Student's name: {student['name']}\")\n",
    "print(f\"Student's Age: {student['age']}\")\n",
    "\n",
    "# Adding a new key-value pair\n",
    "student[\"GPA\"] = 3.8\n",
    "\n",
    "# Updating an existing value\n",
    "student[\"age\"] = 22\n",
    "\n",
    "# Removing a key-value pair\n",
    "del student[\"major\"]\n",
    "\n",
    "# Looping through the dictionary to print all key-value pairs\n",
    "for key, value in student.items():\n",
    "    print(f\"{key}: {value}\")\n"
   ]
  },
  {
   "cell_type": "code",
   "execution_count": 6,
   "metadata": {},
   "outputs": [
    {
     "data": {
      "text/plain": [
       "dict_keys(['United States', 'France', 'Italy', 'Germany', 'United Kingdom'])"
      ]
     },
     "execution_count": 6,
     "metadata": {},
     "output_type": "execute_result"
    }
   ],
   "source": [
    "capitals = {'United States': 'Washington, DC', 'France': 'Paris', 'Italy': 'Rome', 'Germany': 'Berlin', 'United Kingdom': 'London'}\n",
    "\n",
    "capitals.keys()\n",
    "# capitals.values()\n",
    "# capitals.items()"
   ]
  },
  {
   "cell_type": "markdown",
   "metadata": {},
   "source": [
    "Tuples\n",
    "Tuples are immutable sequences, meaning once defined, their contents cannot be changed. They are useful when you want a fixed collection of items."
   ]
  },
  {
   "cell_type": "code",
   "execution_count": null,
   "metadata": {},
   "outputs": [],
   "source": [
    "# Tuple example\n",
    "coordinates = (11, 20)\n",
    "\n",
    "# Accessing elements in a tuple\n",
    "x, y = coordinates\n",
    "print(f\"X: {x}, Y: {y}\")\n",
    "\n",
    "# Attempting to modify a tuple will cause an error\n",
    "# coordinates[0] = 15  # This would raise a TypeError\n"
   ]
  },
  {
   "cell_type": "markdown",
   "metadata": {},
   "source": [
    "Sets\n",
    "A set is an unordered collection of unique elements. Sets are useful when you need to eliminate duplicates or perform common mathematical set operations like union, intersection, and difference"
   ]
  },
  {
   "cell_type": "code",
   "execution_count": 10,
   "metadata": {},
   "outputs": [
    {
     "name": "stdout",
     "output_type": "stream",
     "text": [
      "Set of fruits: {'banana', 'cherry', 'apple'}\n",
      "Unique numbers: {1, 2, 3, 4, 5}\n"
     ]
    }
   ],
   "source": [
    "# Creating a set\n",
    "fruits = {\"apple\", \"banana\", \"cherry\"}\n",
    "print(f\"Set of fruits: {fruits}\")\n",
    "\n",
    "# Using set() to remove duplicates from a list\n",
    "numbers = [1, 2, 2, 3, 4, 4, 5]\n",
    "unique_numbers = set(numbers)\n",
    "print(f\"Unique numbers: {unique_numbers}\")\n"
   ]
  },
  {
   "cell_type": "markdown",
   "metadata": {},
   "source": [
    "Python does not have built-in support for Arrays, but Python Lists can be used instead.\n",
    "\n",
    "Arrays\n",
    "Note: This page shows you how to use LISTS as ARRAYS, however, to work with arrays in Python you will have to import a library, like the NumPy library."
   ]
  }
 ],
 "metadata": {
  "kernelspec": {
   "display_name": "Python 3",
   "language": "python",
   "name": "python3"
  },
  "language_info": {
   "codemirror_mode": {
    "name": "ipython",
    "version": 3
   },
   "file_extension": ".py",
   "mimetype": "text/x-python",
   "name": "python",
   "nbconvert_exporter": "python",
   "pygments_lexer": "ipython3",
   "version": "3.12.3"
  }
 },
 "nbformat": 4,
 "nbformat_minor": 2
}
